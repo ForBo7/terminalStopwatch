{
 "cells": [
  {
   "attachments": {},
   "cell_type": "markdown",
   "metadata": {},
   "source": [
    "# Stopwatch Iteration 5\n",
    "\n",
    "> Adding the Stopwatch Functionality"
   ]
  },
  {
   "cell_type": "code",
   "execution_count": null,
   "metadata": {},
   "outputs": [],
   "source": [
    "#| default_exp stopwatch5\n",
    "%load_ext autoreload\n",
    "%autoreload 2"
   ]
  },
  {
   "cell_type": "code",
   "execution_count": null,
   "metadata": {},
   "outputs": [],
   "source": [
    "#| hide\n",
    "from nbdev.showdoc import *"
   ]
  },
  {
   "attachments": {},
   "cell_type": "markdown",
   "metadata": {},
   "source": [
    "## Create TimeDisplay"
   ]
  },
  {
   "cell_type": "code",
   "execution_count": null,
   "metadata": {},
   "outputs": [],
   "source": [
    "#| export\n",
    "from time import monotonic\n",
    "\n",
    "from textual.reactive import reactive\n",
    "from textual.widgets import Static"
   ]
  },
  {
   "cell_type": "code",
   "execution_count": null,
   "metadata": {},
   "outputs": [],
   "source": [
    "#| export\n",
    "class TimeDisplay(Static):\n",
    "    '''A widget to display elapsed time.'''\n",
    "\n",
    "    # Both the attributes below will be available through `self`\n",
    "    #  as if they were assigned in `__init__`.\n",
    "    start_time = reactive(monotonic)\n",
    "    time = reactive(0.)\n",
    "\n",
    "    def on_mount(self) -> None:\n",
    "        '''Event handler called when widget is added to the app.'''\n",
    "        interval = 1/60\n",
    "        self.set_interval(interval, self.update_time)\n",
    "    \n",
    "    def update_time(self) -> None:\n",
    "        '''Method to update the time to the current time.'''\n",
    "        self.time = monotonic() - self.start_time\n",
    "    \n",
    "    def watch_time(self, time: float) -> None:\n",
    "        '''Called when the time attribute changes.'''\n",
    "        mins, secs = divmod(time, 60)\n",
    "        hrs, mins = divmod(mins, 60)\n",
    "        self.update(f'{hrs:02.0f}:{mins:02.0f}:{secs:05.2f}')"
   ]
  },
  {
   "cell_type": "code",
   "execution_count": null,
   "metadata": {},
   "outputs": [
    {
     "data": {
      "text/markdown": [
       "---\n",
       "\n",
       "[source](https://github.com/ForBo7/terminalStopwatch/blob/main/terminalStopwatch/stopwatch4.py#L12){target=\"_blank\" style=\"float:right; font-size:smaller\"}\n",
       "\n",
       "### TimeDisplay\n",
       "\n",
       ">      TimeDisplay (renderable:Union[rich.console.ConsoleRenderable,rich.console\n",
       ">                   .RichCast,str]='', expand:bool=False, shrink:bool=False,\n",
       ">                   markup:bool=True, name:str|None=None, id:str|None=None,\n",
       ">                   classes:str|None=None)\n",
       "\n",
       "A widget to display elapsed time."
      ],
      "text/plain": [
       "---\n",
       "\n",
       "[source](https://github.com/ForBo7/terminalStopwatch/blob/main/terminalStopwatch/stopwatch4.py#L12){target=\"_blank\" style=\"float:right; font-size:smaller\"}\n",
       "\n",
       "### TimeDisplay\n",
       "\n",
       ">      TimeDisplay (renderable:Union[rich.console.ConsoleRenderable,rich.console\n",
       ">                   .RichCast,str]='', expand:bool=False, shrink:bool=False,\n",
       ">                   markup:bool=True, name:str|None=None, id:str|None=None,\n",
       ">                   classes:str|None=None)\n",
       "\n",
       "A widget to display elapsed time."
      ]
     },
     "execution_count": null,
     "metadata": {},
     "output_type": "execute_result"
    }
   ],
   "source": [
    "show_doc(TimeDisplay)"
   ]
  },
  {
   "attachments": {},
   "cell_type": "markdown",
   "metadata": {},
   "source": [
    "The arguments passed to `reactive` specify the default value or a callable that returns the default"
   ]
  },
  {
   "cell_type": "code",
   "execution_count": null,
   "metadata": {},
   "outputs": [
    {
     "data": {
      "text/markdown": [
       "---\n",
       "\n",
       "### TimeDisplay.on_mount\n",
       "\n",
       ">      TimeDisplay.on_mount ()\n",
       "\n",
       "Event handler called when widget is added to the app."
      ],
      "text/plain": [
       "---\n",
       "\n",
       "### TimeDisplay.on_mount\n",
       "\n",
       ">      TimeDisplay.on_mount ()\n",
       "\n",
       "Event handler called when widget is added to the app."
      ]
     },
     "execution_count": null,
     "metadata": {},
     "output_type": "execute_result"
    }
   ],
   "source": [
    "show_doc(TimeDisplay.on_mount)"
   ]
  },
  {
   "cell_type": "code",
   "execution_count": null,
   "metadata": {},
   "outputs": [
    {
     "data": {
      "text/markdown": [
       "---\n",
       "\n",
       "### TimeDisplay.update_time\n",
       "\n",
       ">      TimeDisplay.update_time ()\n",
       "\n",
       "Method to update the time to the current time."
      ],
      "text/plain": [
       "---\n",
       "\n",
       "### TimeDisplay.update_time\n",
       "\n",
       ">      TimeDisplay.update_time ()\n",
       "\n",
       "Method to update the time to the current time."
      ]
     },
     "execution_count": null,
     "metadata": {},
     "output_type": "execute_result"
    }
   ],
   "source": [
    "show_doc(TimeDisplay.update_time)"
   ]
  },
  {
   "cell_type": "code",
   "execution_count": null,
   "metadata": {},
   "outputs": [
    {
     "data": {
      "text/markdown": [
       "---\n",
       "\n",
       "### TimeDisplay.watch_time\n",
       "\n",
       ">      TimeDisplay.watch_time (time:float)\n",
       "\n",
       "Called when the time attribute changes."
      ],
      "text/plain": [
       "---\n",
       "\n",
       "### TimeDisplay.watch_time\n",
       "\n",
       ">      TimeDisplay.watch_time (time:float)\n",
       "\n",
       "Called when the time attribute changes."
      ]
     },
     "execution_count": null,
     "metadata": {},
     "output_type": "execute_result"
    }
   ],
   "source": [
    "show_doc(TimeDisplay.watch_time)"
   ]
  },
  {
   "attachments": {},
   "cell_type": "markdown",
   "metadata": {},
   "source": [
    "A method prefixed with `watch_` and suffixed with the name of a reactive attribute is called every time the reactive attribute is modified."
   ]
  },
  {
   "attachments": {},
   "cell_type": "markdown",
   "metadata": {},
   "source": [
    "## Create the Stopwatch"
   ]
  },
  {
   "cell_type": "code",
   "execution_count": null,
   "metadata": {},
   "outputs": [],
   "source": [
    "#| export\n",
    "from textual.app import ComposeResult\n",
    "from textual.widgets import Button"
   ]
  },
  {
   "cell_type": "code",
   "execution_count": null,
   "metadata": {},
   "outputs": [],
   "source": [
    "#| export\n",
    "class Stopwatch(Static):\n",
    "    '''A stopwatch widget.'''\n",
    "\n",
    "    def on_button_pressed(self, event: Button.Pressed) -> None:\n",
    "        '''Even handler called when a button is pressed.'''\n",
    "        if event.button.id == 'start': self.add_class('start')\n",
    "        elif event.button.id == 'stop': self.remove_class('started')\n",
    "    \n",
    "    def compose(self) -> ComposeResult:\n",
    "        '''Create child widgets of a stopwatch.'''\n",
    "        yield Button('Start', id='start', variant='success')\n",
    "        yield Button('Stop', id='stop', variant='error')\n",
    "        yield Button('Reset', id='reset')\n",
    "        yield TimeDisplay()"
   ]
  },
  {
   "cell_type": "code",
   "execution_count": null,
   "metadata": {},
   "outputs": [
    {
     "data": {
      "text/markdown": [
       "---\n",
       "\n",
       "[source](https://github.com/ForBo7/terminalStopwatch/blob/main/terminalStopwatch/stopwatch5.py#L41){target=\"_blank\" style=\"float:right; font-size:smaller\"}\n",
       "\n",
       "### Stopwatch\n",
       "\n",
       ">      Stopwatch (renderable:Union[rich.console.ConsoleRenderable,rich.console.R\n",
       ">                 ichCast,str]='', expand:bool=False, shrink:bool=False,\n",
       ">                 markup:bool=True, name:str|None=None, id:str|None=None,\n",
       ">                 classes:str|None=None)\n",
       "\n",
       "A stopwatch widget."
      ],
      "text/plain": [
       "---\n",
       "\n",
       "[source](https://github.com/ForBo7/terminalStopwatch/blob/main/terminalStopwatch/stopwatch5.py#L41){target=\"_blank\" style=\"float:right; font-size:smaller\"}\n",
       "\n",
       "### Stopwatch\n",
       "\n",
       ">      Stopwatch (renderable:Union[rich.console.ConsoleRenderable,rich.console.R\n",
       ">                 ichCast,str]='', expand:bool=False, shrink:bool=False,\n",
       ">                 markup:bool=True, name:str|None=None, id:str|None=None,\n",
       ">                 classes:str|None=None)\n",
       "\n",
       "A stopwatch widget."
      ]
     },
     "execution_count": null,
     "metadata": {},
     "output_type": "execute_result"
    }
   ],
   "source": [
    "show_doc(Stopwatch)"
   ]
  },
  {
   "cell_type": "code",
   "execution_count": null,
   "metadata": {},
   "outputs": [
    {
     "data": {
      "text/markdown": [
       "---\n",
       "\n",
       "[source](https://github.com/ForBo7/terminalStopwatch/blob/main/terminalStopwatch/stopwatch5.py#L44){target=\"_blank\" style=\"float:right; font-size:smaller\"}\n",
       "\n",
       "### Stopwatch.on_button_pressed\n",
       "\n",
       ">      Stopwatch.on_button_pressed\n",
       ">                                   (event:textual.widgets._button.Button.Presse\n",
       ">                                   d)\n",
       "\n",
       "Even handler called when a button is pressed."
      ],
      "text/plain": [
       "---\n",
       "\n",
       "[source](https://github.com/ForBo7/terminalStopwatch/blob/main/terminalStopwatch/stopwatch5.py#L44){target=\"_blank\" style=\"float:right; font-size:smaller\"}\n",
       "\n",
       "### Stopwatch.on_button_pressed\n",
       "\n",
       ">      Stopwatch.on_button_pressed\n",
       ">                                   (event:textual.widgets._button.Button.Presse\n",
       ">                                   d)\n",
       "\n",
       "Even handler called when a button is pressed."
      ]
     },
     "execution_count": null,
     "metadata": {},
     "output_type": "execute_result"
    }
   ],
   "source": [
    "show_doc(Stopwatch.on_button_pressed)"
   ]
  },
  {
   "cell_type": "code",
   "execution_count": null,
   "metadata": {},
   "outputs": [
    {
     "data": {
      "text/markdown": [
       "---\n",
       "\n",
       "[source](https://github.com/ForBo7/terminalStopwatch/blob/main/terminalStopwatch/stopwatch5.py#L49){target=\"_blank\" style=\"float:right; font-size:smaller\"}\n",
       "\n",
       "### Stopwatch.compose\n",
       "\n",
       ">      Stopwatch.compose ()\n",
       "\n",
       "Create child widgets of a stopwatch."
      ],
      "text/plain": [
       "---\n",
       "\n",
       "[source](https://github.com/ForBo7/terminalStopwatch/blob/main/terminalStopwatch/stopwatch5.py#L49){target=\"_blank\" style=\"float:right; font-size:smaller\"}\n",
       "\n",
       "### Stopwatch.compose\n",
       "\n",
       ">      Stopwatch.compose ()\n",
       "\n",
       "Create child widgets of a stopwatch."
      ]
     },
     "execution_count": null,
     "metadata": {},
     "output_type": "execute_result"
    }
   ],
   "source": [
    "show_doc(Stopwatch.compose)"
   ]
  },
  {
   "attachments": {},
   "cell_type": "markdown",
   "metadata": {},
   "source": [
    "## Create the App"
   ]
  },
  {
   "cell_type": "code",
   "execution_count": null,
   "metadata": {},
   "outputs": [],
   "source": [
    "#| export\n",
    "from textual.app import App\n",
    "from textual.containers import Container\n",
    "from textual.widgets import Header, Footer"
   ]
  },
  {
   "cell_type": "code",
   "execution_count": null,
   "metadata": {},
   "outputs": [],
   "source": [
    "#| export\n",
    "class StopwatchApp(App):\n",
    "    '''A Textual app to manage stopwatches.'''\n",
    "\n",
    "    CSS_PATH = '../css/stopwatch4.css'\n",
    "    BINDINGS = [('d', 'toggle_dark', 'Toggle dark mode')]\n",
    "\n",
    "    def compose(self) -> ComposeResult:\n",
    "        '''Create child widgets for the app.'''\n",
    "        yield Header()\n",
    "        yield Footer()\n",
    "        yield Container(Stopwatch(), Stopwatch(), Stopwatch())\n",
    "    \n",
    "    def action_toggle_dark(self) -> None:\n",
    "        '''An action to toggle dark mode.'''\n",
    "        self.dark = not self.dark"
   ]
  },
  {
   "cell_type": "code",
   "execution_count": null,
   "metadata": {},
   "outputs": [
    {
     "data": {
      "text/markdown": [
       "---\n",
       "\n",
       "[source](https://github.com/ForBo7/terminalStopwatch/blob/main/terminalStopwatch/stopwatch5.py#L62){target=\"_blank\" style=\"float:right; font-size:smaller\"}\n",
       "\n",
       "### StopwatchApp\n",
       "\n",
       ">      StopwatchApp (driver_class:Optional[Type[textual.driver.Driver]]=None, cs\n",
       ">                    s_path:Union[str,pathlib.PurePath,List[Union[str,pathlib.Pu\n",
       ">                    rePath]],NoneType]=None, watch_css:bool=False)\n",
       "\n",
       "A Textual app to manage stopwatches."
      ],
      "text/plain": [
       "---\n",
       "\n",
       "[source](https://github.com/ForBo7/terminalStopwatch/blob/main/terminalStopwatch/stopwatch5.py#L62){target=\"_blank\" style=\"float:right; font-size:smaller\"}\n",
       "\n",
       "### StopwatchApp\n",
       "\n",
       ">      StopwatchApp (driver_class:Optional[Type[textual.driver.Driver]]=None, cs\n",
       ">                    s_path:Union[str,pathlib.PurePath,List[Union[str,pathlib.Pu\n",
       ">                    rePath]],NoneType]=None, watch_css:bool=False)\n",
       "\n",
       "A Textual app to manage stopwatches."
      ]
     },
     "execution_count": null,
     "metadata": {},
     "output_type": "execute_result"
    }
   ],
   "source": [
    "show_doc(StopwatchApp)"
   ]
  },
  {
   "cell_type": "code",
   "execution_count": null,
   "metadata": {},
   "outputs": [
    {
     "data": {
      "text/markdown": [
       "---\n",
       "\n",
       "[source](https://github.com/ForBo7/terminalStopwatch/blob/main/terminalStopwatch/stopwatch5.py#L68){target=\"_blank\" style=\"float:right; font-size:smaller\"}\n",
       "\n",
       "### StopwatchApp.compose\n",
       "\n",
       ">      StopwatchApp.compose ()\n",
       "\n",
       "Create child widgets for the app."
      ],
      "text/plain": [
       "---\n",
       "\n",
       "[source](https://github.com/ForBo7/terminalStopwatch/blob/main/terminalStopwatch/stopwatch5.py#L68){target=\"_blank\" style=\"float:right; font-size:smaller\"}\n",
       "\n",
       "### StopwatchApp.compose\n",
       "\n",
       ">      StopwatchApp.compose ()\n",
       "\n",
       "Create child widgets for the app."
      ]
     },
     "execution_count": null,
     "metadata": {},
     "output_type": "execute_result"
    }
   ],
   "source": [
    "show_doc(StopwatchApp.compose)"
   ]
  },
  {
   "cell_type": "code",
   "execution_count": null,
   "metadata": {},
   "outputs": [
    {
     "data": {
      "text/markdown": [
       "---\n",
       "\n",
       "[source](https://github.com/ForBo7/terminalStopwatch/blob/main/terminalStopwatch/stopwatch5.py#L74){target=\"_blank\" style=\"float:right; font-size:smaller\"}\n",
       "\n",
       "### StopwatchApp.action_toggle_dark\n",
       "\n",
       ">      StopwatchApp.action_toggle_dark ()\n",
       "\n",
       "An action to toggle dark mode."
      ],
      "text/plain": [
       "---\n",
       "\n",
       "[source](https://github.com/ForBo7/terminalStopwatch/blob/main/terminalStopwatch/stopwatch5.py#L74){target=\"_blank\" style=\"float:right; font-size:smaller\"}\n",
       "\n",
       "### StopwatchApp.action_toggle_dark\n",
       "\n",
       ">      StopwatchApp.action_toggle_dark ()\n",
       "\n",
       "An action to toggle dark mode."
      ]
     },
     "execution_count": null,
     "metadata": {},
     "output_type": "execute_result"
    }
   ],
   "source": [
    "show_doc(StopwatchApp.action_toggle_dark)"
   ]
  },
  {
   "attachments": {},
   "cell_type": "markdown",
   "metadata": {},
   "source": [
    "## Launch App -"
   ]
  },
  {
   "cell_type": "code",
   "execution_count": null,
   "metadata": {},
   "outputs": [],
   "source": [
    "#| export\n",
    "#| eval: false\n",
    "try: from nbdev.imports import IN_NOTEBOOK\n",
    "except: IN_NOTEBOOK = False\n",
    "\n",
    "if __name__ == '__main__' and not IN_NOTEBOOK:\n",
    "    app = StopwatchApp()\n",
    "    app.run()"
   ]
  },
  {
   "attachments": {},
   "cell_type": "markdown",
   "metadata": {},
   "source": [
    "## Export -"
   ]
  },
  {
   "cell_type": "code",
   "execution_count": null,
   "metadata": {},
   "outputs": [],
   "source": [
    "#| hide\n",
    "import nbdev; nbdev.nbdev_export()"
   ]
  }
 ],
 "metadata": {
  "kernelspec": {
   "display_name": ".venv",
   "language": "python",
   "name": "python3"
  }
 },
 "nbformat": 4,
 "nbformat_minor": 2
}
