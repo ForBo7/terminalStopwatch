{
 "cells": [
  {
   "attachments": {},
   "cell_type": "markdown",
   "metadata": {},
   "source": [
    "# Stopwatch Iteration 4\n",
    "\n",
    "> Making the style dynamic"
   ]
  },
  {
   "cell_type": "code",
   "execution_count": null,
   "metadata": {},
   "outputs": [],
   "source": [
    "#| default_exp stopwatch4\n",
    "%load_ext autoreload\n",
    "%autoreload 2"
   ]
  },
  {
   "cell_type": "code",
   "execution_count": null,
   "metadata": {},
   "outputs": [],
   "source": [
    "#| hide\n",
    "from nbdev.showdoc import *"
   ]
  },
  {
   "attachments": {},
   "cell_type": "markdown",
   "metadata": {},
   "source": [
    "## Imports"
   ]
  },
  {
   "cell_type": "code",
   "execution_count": null,
   "metadata": {},
   "outputs": [],
   "source": [
    "#| export\n",
    "from textual.app import App, ComposeResult\n",
    "from textual.containers import Container\n",
    "from textual.widgets import Button, Header, Footer, Static"
   ]
  },
  {
   "attachments": {},
   "cell_type": "markdown",
   "metadata": {},
   "source": [
    "## Create the TimeDisplay"
   ]
  },
  {
   "cell_type": "code",
   "execution_count": null,
   "metadata": {},
   "outputs": [],
   "source": [
    "#| export\n",
    "class TimeDisplay(Static):\n",
    "    '''A widget to display elapsed time.'''"
   ]
  },
  {
   "attachments": {},
   "cell_type": "markdown",
   "metadata": {},
   "source": [
    "## Create the Stopwatch"
   ]
  },
  {
   "cell_type": "code",
   "execution_count": null,
   "metadata": {},
   "outputs": [],
   "source": [
    "#| export\n",
    "class Stopwatch(Static):\n",
    "    '''A stopwatch widget.'''\n",
    "\n",
    "    def on_button_pressed(self, event: Button.Pressed) -> None:\n",
    "        '''Event handler called when a button is pressed.'''\n",
    "        if event.button.id == 'start':\n",
    "            self.add_class('started')\n",
    "        elif event.button.id == 'stop':\n",
    "            self.remove_class('started')\n",
    "    \n",
    "\n",
    "    def compose(self) -> ComposeResult:\n",
    "        '''Create child widgets of a stopwatch.'''\n",
    "        yield Button('Start', id='start', variant='success')\n",
    "        yield Button('Stop', id='stop', variant='error')\n",
    "        yield Button('Reset', id='reset')\n",
    "        yield TimeDisplay('00:00:00.00')"
   ]
  },
  {
   "cell_type": "code",
   "execution_count": null,
   "metadata": {},
   "outputs": [
    {
     "data": {
      "text/markdown": [
       "---\n",
       "\n",
       "### Stopwatch.on_button_pressed\n",
       "\n",
       ">      Stopwatch.on_button_pressed\n",
       ">                                   (event:textual.widgets._button.Button.Presse\n",
       ">                                   d)\n",
       "\n",
       "Event handler called when a button is pressed."
      ],
      "text/plain": [
       "---\n",
       "\n",
       "### Stopwatch.on_button_pressed\n",
       "\n",
       ">      Stopwatch.on_button_pressed\n",
       ">                                   (event:textual.widgets._button.Button.Presse\n",
       ">                                   d)\n",
       "\n",
       "Event handler called when a button is pressed."
      ]
     },
     "execution_count": null,
     "metadata": {},
     "output_type": "execute_result"
    }
   ],
   "source": [
    "show_doc(Stopwatch.on_button_pressed)"
   ]
  },
  {
   "attachments": {},
   "cell_type": "markdown",
   "metadata": {},
   "source": [
    "Event handlers begin with the `on_` prefix."
   ]
  },
  {
   "cell_type": "code",
   "execution_count": null,
   "metadata": {},
   "outputs": [
    {
     "data": {
      "text/markdown": [
       "---\n",
       "\n",
       "[source](https://github.com/ForBo7/terminalStopwatch/blob/main/terminalStopwatch/stopwatch3.py#L19){target=\"_blank\" style=\"float:right; font-size:smaller\"}\n",
       "\n",
       "### Stopwatch.compose\n",
       "\n",
       ">      Stopwatch.compose ()\n",
       "\n",
       "Create child widgets of a stopwatch."
      ],
      "text/plain": [
       "---\n",
       "\n",
       "[source](https://github.com/ForBo7/terminalStopwatch/blob/main/terminalStopwatch/stopwatch3.py#L19){target=\"_blank\" style=\"float:right; font-size:smaller\"}\n",
       "\n",
       "### Stopwatch.compose\n",
       "\n",
       ">      Stopwatch.compose ()\n",
       "\n",
       "Create child widgets of a stopwatch."
      ]
     },
     "execution_count": null,
     "metadata": {},
     "output_type": "execute_result"
    }
   ],
   "source": [
    "show_doc(Stopwatch.compose)"
   ]
  },
  {
   "attachments": {},
   "cell_type": "markdown",
   "metadata": {},
   "source": [
    "## Create the App"
   ]
  },
  {
   "cell_type": "code",
   "execution_count": null,
   "metadata": {},
   "outputs": [],
   "source": [
    "#| export\n",
    "class StopwatchApp(App):\n",
    "    '''A Textual app to manage stopwatches.'''\n",
    "\n",
    "    CSS_PATH = '../css/stopwatch4.css'\n",
    "    BINDINGS = [('d', 'toggle_dark', 'Toggle dark mode')]\n",
    "\n",
    "    def compose(self) -> ComposeResult:\n",
    "        '''Create child widgets for the app.'''\n",
    "        yield Header()\n",
    "        yield Footer()\n",
    "        yield Container(Stopwatch(), Stopwatch(), Stopwatch())\n",
    "\n",
    "    def action_toggle_dark(self) -> None:\n",
    "        '''An action to toggle dark mode.'''\n",
    "        self.dark = not self.dark"
   ]
  },
  {
   "cell_type": "code",
   "execution_count": null,
   "metadata": {},
   "outputs": [
    {
     "data": {
      "text/markdown": [
       "---\n",
       "\n",
       "[source](https://github.com/ForBo7/terminalStopwatch/blob/main/terminalStopwatch/stopwatch3.py#L33){target=\"_blank\" style=\"float:right; font-size:smaller\"}\n",
       "\n",
       "### StopwatchApp.compose\n",
       "\n",
       ">      StopwatchApp.compose ()\n",
       "\n",
       "Create child widgets for the app."
      ],
      "text/plain": [
       "---\n",
       "\n",
       "[source](https://github.com/ForBo7/terminalStopwatch/blob/main/terminalStopwatch/stopwatch3.py#L33){target=\"_blank\" style=\"float:right; font-size:smaller\"}\n",
       "\n",
       "### StopwatchApp.compose\n",
       "\n",
       ">      StopwatchApp.compose ()\n",
       "\n",
       "Create child widgets for the app."
      ]
     },
     "execution_count": null,
     "metadata": {},
     "output_type": "execute_result"
    }
   ],
   "source": [
    "show_doc(StopwatchApp.compose)"
   ]
  },
  {
   "cell_type": "code",
   "execution_count": null,
   "metadata": {},
   "outputs": [
    {
     "data": {
      "text/markdown": [
       "---\n",
       "\n",
       "[source](https://github.com/ForBo7/terminalStopwatch/blob/main/terminalStopwatch/stopwatch3.py#L39){target=\"_blank\" style=\"float:right; font-size:smaller\"}\n",
       "\n",
       "### StopwatchApp.action_toggle_dark\n",
       "\n",
       ">      StopwatchApp.action_toggle_dark ()\n",
       "\n",
       "An action to toggle dark mode."
      ],
      "text/plain": [
       "---\n",
       "\n",
       "[source](https://github.com/ForBo7/terminalStopwatch/blob/main/terminalStopwatch/stopwatch3.py#L39){target=\"_blank\" style=\"float:right; font-size:smaller\"}\n",
       "\n",
       "### StopwatchApp.action_toggle_dark\n",
       "\n",
       ">      StopwatchApp.action_toggle_dark ()\n",
       "\n",
       "An action to toggle dark mode."
      ]
     },
     "execution_count": null,
     "metadata": {},
     "output_type": "execute_result"
    }
   ],
   "source": [
    "show_doc(StopwatchApp.action_toggle_dark)"
   ]
  },
  {
   "attachments": {},
   "cell_type": "markdown",
   "metadata": {},
   "source": [
    "## Launch App -"
   ]
  },
  {
   "cell_type": "code",
   "execution_count": null,
   "metadata": {},
   "outputs": [],
   "source": [
    "#| export\n",
    "#| eval: false\n",
    "try: from nbdev.imports import IN_NOTEBOOK\n",
    "except: IN_NOTEBOOK=False\n",
    "\n",
    "if __name__ == '__main__' and not IN_NOTEBOOK:\n",
    "    app = StopwatchApp()\n",
    "    app.run()"
   ]
  },
  {
   "attachments": {},
   "cell_type": "markdown",
   "metadata": {},
   "source": [
    "## Export -"
   ]
  },
  {
   "cell_type": "code",
   "execution_count": null,
   "metadata": {},
   "outputs": [],
   "source": [
    "#| hide\n",
    "import nbdev; nbdev.nbdev_export()"
   ]
  },
  {
   "cell_type": "code",
   "execution_count": null,
   "metadata": {},
   "outputs": [],
   "source": []
  }
 ],
 "metadata": {
  "kernelspec": {
   "display_name": ".venv",
   "language": "python",
   "name": "python3"
  }
 },
 "nbformat": 4,
 "nbformat_minor": 2
}
