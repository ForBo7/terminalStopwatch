{
 "cells": [
  {
   "attachments": {},
   "cell_type": "markdown",
   "metadata": {},
   "source": [
    "# Stopwatch Iteration 2\n",
    "\n",
    "> Creating the widgets."
   ]
  },
  {
   "cell_type": "code",
   "execution_count": null,
   "metadata": {},
   "outputs": [],
   "source": [
    "#| default_exp stopwatch2\n",
    "\n",
    "%load_ext autoreload\n",
    "%autoreload 2"
   ]
  },
  {
   "cell_type": "code",
   "execution_count": null,
   "metadata": {},
   "outputs": [],
   "source": [
    "#| hide\n",
    "from nbdev.showdoc import *"
   ]
  },
  {
   "attachments": {},
   "cell_type": "markdown",
   "metadata": {},
   "source": [
    "## Imports"
   ]
  },
  {
   "cell_type": "code",
   "execution_count": null,
   "metadata": {},
   "outputs": [],
   "source": [
    "#| export\n",
    "from textual.app import App, ComposeResult\n",
    "from textual.containers import Container\n",
    "from textual.widgets import Button, Header, Footer, Static"
   ]
  },
  {
   "attachments": {},
   "cell_type": "markdown",
   "metadata": {},
   "source": [
    "```python\n",
    "from textual.app import App, ComposeResult\n",
    "from textual.containers import Container\n",
    "from textual.widgets import Button, Header, Footer, Static\n",
    "```\n",
    "\n",
    "`Button` creates a clickable button.\n",
    "`Static` is a base class for simple control.\n",
    "`Container` is a `Widget` that contains other widgets."
   ]
  },
  {
   "attachments": {},
   "cell_type": "markdown",
   "metadata": {},
   "source": [
    "## Create Time Display"
   ]
  },
  {
   "cell_type": "code",
   "execution_count": null,
   "metadata": {},
   "outputs": [],
   "source": [
    "#| export\n",
    "class TimeDisplay(Static):\n",
    "    \"\"\"A widget to display elapsed time.\"\"\""
   ]
  },
  {
   "attachments": {},
   "cell_type": "markdown",
   "metadata": {},
   "source": [
    "This class will be fleshed out later."
   ]
  },
  {
   "attachments": {},
   "cell_type": "markdown",
   "metadata": {},
   "source": [
    "## Create Stopwatch"
   ]
  },
  {
   "cell_type": "code",
   "execution_count": null,
   "metadata": {},
   "outputs": [],
   "source": [
    "#| export\n",
    "class Stopwatch(Static):\n",
    "    \"\"\"A stopwatch widget.\"\"\"\n",
    "\n",
    "    def compose(self) -> ComposeResult:\n",
    "        \"\"\"Create child widgets of a stopwatch.\"\"\"\n",
    "        yield Button('Start', id='start', variant='success')\n",
    "        yield Button('Stop', id='stop', variant='error')\n",
    "        yield Button('Reset', id='reset')\n",
    "        yield TimeDisplay('00:00:00.00')"
   ]
  },
  {
   "cell_type": "code",
   "execution_count": null,
   "metadata": {},
   "outputs": [
    {
     "data": {
      "text/markdown": [
       "---\n",
       "\n",
       "[source](https://github.com/ForBo7/terminalStopwatch/blob/main/terminalStopwatch/stopwatch2.py#L19){target=\"_blank\" style=\"float:right; font-size:smaller\"}\n",
       "\n",
       "### Stopwatch.compose\n",
       "\n",
       ">      Stopwatch.compose ()\n",
       "\n",
       "Create child widgets of a stopwatch."
      ],
      "text/plain": [
       "---\n",
       "\n",
       "[source](https://github.com/ForBo7/terminalStopwatch/blob/main/terminalStopwatch/stopwatch2.py#L19){target=\"_blank\" style=\"float:right; font-size:smaller\"}\n",
       "\n",
       "### Stopwatch.compose\n",
       "\n",
       ">      Stopwatch.compose ()\n",
       "\n",
       "Create child widgets of a stopwatch."
      ]
     },
     "execution_count": null,
     "metadata": {},
     "output_type": "execute_result"
    }
   ],
   "source": [
    "show_doc(Stopwatch.compose)"
   ]
  },
  {
   "attachments": {},
   "cell_type": "markdown",
   "metadata": {},
   "source": [
    "## Create App"
   ]
  },
  {
   "cell_type": "code",
   "execution_count": null,
   "metadata": {},
   "outputs": [],
   "source": [
    "#| export\n",
    "class StopwatchApp(App):\n",
    "    \"\"\"A Textual app to manage stopwatches.\"\"\"\n",
    "\n",
    "    BINDINGS = [('d', 'toggle_dark', 'Toggle dark mode')]\n",
    "\n",
    "    def compose(self) -> ComposeResult:\n",
    "        \"\"\"Create child widgets for the app.\"\"\"\n",
    "        yield Header()\n",
    "        yield Footer()\n",
    "        yield Container(Stopwatch(), Stopwatch(), Stopwatch())\n",
    "    \n",
    "    def action_toggle_dark(self) -> None:\n",
    "        \"\"\"An action to toggle dark mode.\"\"\"\n",
    "        self.dark = not self.dark"
   ]
  },
  {
   "cell_type": "code",
   "execution_count": null,
   "metadata": {},
   "outputs": [
    {
     "data": {
      "text/markdown": [
       "---\n",
       "\n",
       "[source](https://github.com/ForBo7/terminalStopwatch/blob/main/terminalStopwatch/stopwatch2.py#L32){target=\"_blank\" style=\"float:right; font-size:smaller\"}\n",
       "\n",
       "### StopwatchApp.compose\n",
       "\n",
       ">      StopwatchApp.compose ()\n",
       "\n",
       "Create child widgets for the app."
      ],
      "text/plain": [
       "---\n",
       "\n",
       "[source](https://github.com/ForBo7/terminalStopwatch/blob/main/terminalStopwatch/stopwatch2.py#L32){target=\"_blank\" style=\"float:right; font-size:smaller\"}\n",
       "\n",
       "### StopwatchApp.compose\n",
       "\n",
       ">      StopwatchApp.compose ()\n",
       "\n",
       "Create child widgets for the app."
      ]
     },
     "execution_count": null,
     "metadata": {},
     "output_type": "execute_result"
    }
   ],
   "source": [
    "show_doc(StopwatchApp.compose)"
   ]
  },
  {
   "cell_type": "code",
   "execution_count": null,
   "metadata": {},
   "outputs": [
    {
     "data": {
      "text/markdown": [
       "---\n",
       "\n",
       "[source](https://github.com/ForBo7/terminalStopwatch/blob/main/terminalStopwatch/stopwatch2.py#L38){target=\"_blank\" style=\"float:right; font-size:smaller\"}\n",
       "\n",
       "### StopwatchApp.action_toggle_dark\n",
       "\n",
       ">      StopwatchApp.action_toggle_dark ()\n",
       "\n",
       "An action to toggle dark mode."
      ],
      "text/plain": [
       "---\n",
       "\n",
       "[source](https://github.com/ForBo7/terminalStopwatch/blob/main/terminalStopwatch/stopwatch2.py#L38){target=\"_blank\" style=\"float:right; font-size:smaller\"}\n",
       "\n",
       "### StopwatchApp.action_toggle_dark\n",
       "\n",
       ">      StopwatchApp.action_toggle_dark ()\n",
       "\n",
       "An action to toggle dark mode."
      ]
     },
     "execution_count": null,
     "metadata": {},
     "output_type": "execute_result"
    }
   ],
   "source": [
    "show_doc(StopwatchApp.action_toggle_dark)"
   ]
  },
  {
   "attachments": {},
   "cell_type": "markdown",
   "metadata": {},
   "source": [
    "## Launch App -"
   ]
  },
  {
   "cell_type": "code",
   "execution_count": null,
   "metadata": {},
   "outputs": [
    {
     "ename": "RuntimeError",
     "evalue": "asyncio.run() cannot be called from a running event loop",
     "output_type": "error",
     "traceback": [
      "\u001b[0;31m---------------------------------------------------------------------------\u001b[0m",
      "\u001b[0;31mRuntimeError\u001b[0m                              Traceback (most recent call last)",
      "Cell \u001b[0;32mIn[9], line 8\u001b[0m\n\u001b[1;32m      6\u001b[0m \u001b[39mif\u001b[39;00m \u001b[39m__name__\u001b[39m \u001b[39m==\u001b[39m \u001b[39m'\u001b[39m\u001b[39m__main__\u001b[39m\u001b[39m'\u001b[39m \u001b[39mand\u001b[39;00m \u001b[39mnot\u001b[39;00m IN_NOTEBOOK:\n\u001b[1;32m      7\u001b[0m     app \u001b[39m=\u001b[39m StopwatchApp()\n\u001b[0;32m----> 8\u001b[0m     app\u001b[39m.\u001b[39;49mrun()\n",
      "File \u001b[0;32m~/DataspellProjects/terminalStopwatch/.venv/lib/python3.11/site-packages/textual/app.py:975\u001b[0m, in \u001b[0;36mApp.run\u001b[0;34m(self, headless, size, auto_pilot)\u001b[0m\n\u001b[1;32m    971\u001b[0m         \u001b[39mself\u001b[39m\u001b[39m.\u001b[39m_thread_id \u001b[39m=\u001b[39m \u001b[39m0\u001b[39m\n\u001b[1;32m    973\u001b[0m \u001b[39mif\u001b[39;00m _ASYNCIO_GET_EVENT_LOOP_IS_DEPRECATED:\n\u001b[1;32m    974\u001b[0m     \u001b[39m# N.B. This doesn't work with Python<3.10, as we end up with 2 event loops:\u001b[39;00m\n\u001b[0;32m--> 975\u001b[0m     asyncio\u001b[39m.\u001b[39;49mrun(run_app())\n\u001b[1;32m    976\u001b[0m \u001b[39melse\u001b[39;00m:\n\u001b[1;32m    977\u001b[0m     \u001b[39m# However, this works with Python<3.10:\u001b[39;00m\n\u001b[1;32m    978\u001b[0m     event_loop \u001b[39m=\u001b[39m asyncio\u001b[39m.\u001b[39mget_event_loop()\n",
      "File \u001b[0;32m/Library/Frameworks/Python.framework/Versions/3.11/lib/python3.11/asyncio/runners.py:186\u001b[0m, in \u001b[0;36mrun\u001b[0;34m(main, debug)\u001b[0m\n\u001b[1;32m    161\u001b[0m \u001b[39m\u001b[39m\u001b[39m\"\"\"Execute the coroutine and return the result.\u001b[39;00m\n\u001b[1;32m    162\u001b[0m \n\u001b[1;32m    163\u001b[0m \u001b[39mThis function runs the passed coroutine, taking care of\u001b[39;00m\n\u001b[0;32m   (...)\u001b[0m\n\u001b[1;32m    182\u001b[0m \u001b[39m    asyncio.run(main())\u001b[39;00m\n\u001b[1;32m    183\u001b[0m \u001b[39m\"\"\"\u001b[39;00m\n\u001b[1;32m    184\u001b[0m \u001b[39mif\u001b[39;00m events\u001b[39m.\u001b[39m_get_running_loop() \u001b[39mis\u001b[39;00m \u001b[39mnot\u001b[39;00m \u001b[39mNone\u001b[39;00m:\n\u001b[1;32m    185\u001b[0m     \u001b[39m# fail fast with short traceback\u001b[39;00m\n\u001b[0;32m--> 186\u001b[0m     \u001b[39mraise\u001b[39;00m \u001b[39mRuntimeError\u001b[39;00m(\n\u001b[1;32m    187\u001b[0m         \u001b[39m\"\u001b[39m\u001b[39masyncio.run() cannot be called from a running event loop\u001b[39m\u001b[39m\"\u001b[39m)\n\u001b[1;32m    189\u001b[0m \u001b[39mwith\u001b[39;00m Runner(debug\u001b[39m=\u001b[39mdebug) \u001b[39mas\u001b[39;00m runner:\n\u001b[1;32m    190\u001b[0m     \u001b[39mreturn\u001b[39;00m runner\u001b[39m.\u001b[39mrun(main)\n",
      "\u001b[0;31mRuntimeError\u001b[0m: asyncio.run() cannot be called from a running event loop"
     ]
    }
   ],
   "source": [
    "#|export \n",
    "#| eval: false\n",
    "try: from nbdev.imports import IN_NOTEBOOK\n",
    "except: IN_NOTEBOOK=False\n",
    "\n",
    "if __name__ == '__main__' and not IN_NOTEBOOK:\n",
    "    app = StopwatchApp()\n",
    "    app.run()"
   ]
  },
  {
   "attachments": {},
   "cell_type": "markdown",
   "metadata": {},
   "source": [
    "## Export -"
   ]
  },
  {
   "cell_type": "code",
   "execution_count": null,
   "metadata": {},
   "outputs": [],
   "source": [
    "#| hide\n",
    "import nbdev; nbdev.nbdev_export()"
   ]
  }
 ],
 "metadata": {
  "kernelspec": {
   "display_name": ".venv",
   "language": "python",
   "name": "python3"
  }
 },
 "nbformat": 4,
 "nbformat_minor": 2
}
