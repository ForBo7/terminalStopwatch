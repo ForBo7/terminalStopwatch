{
 "cells": [
  {
   "attachments": {},
   "cell_type": "markdown",
   "metadata": {},
   "source": [
    "# Stopwatch Iteration 1\n",
    "\n",
    "> Creating the App Class"
   ]
  },
  {
   "cell_type": "code",
   "execution_count": null,
   "metadata": {},
   "outputs": [],
   "source": [
    "#| default_exp stopwatch1\n",
    "\n",
    "%load_ext autoreload\n",
    "%autoreload 2"
   ]
  },
  {
   "cell_type": "code",
   "execution_count": null,
   "metadata": {},
   "outputs": [],
   "source": [
    "#| hide\n",
    "from nbdev.showdoc import *"
   ]
  },
  {
   "attachments": {},
   "cell_type": "markdown",
   "metadata": {},
   "source": [
    "## Imports"
   ]
  },
  {
   "cell_type": "code",
   "execution_count": null,
   "metadata": {},
   "outputs": [],
   "source": [
    "#| export\n",
    "from textual.app import App, ComposeResult\n",
    "from textual.widgets import Header, Footer"
   ]
  },
  {
   "attachments": {},
   "cell_type": "markdown",
   "metadata": {},
   "source": [
    "```python\n",
    "from textual.app import App, ComposeResult\n",
    "from textual.widgets import Header, Footer\n",
    "```\n",
    "\n",
    "`App` is a baseclass.\n",
    "`Footer` shows a bar at the bottom of the screen that contains keyboard shortcuts.\n",
    "`Header` will show the title at the top of the screen."
   ]
  },
  {
   "attachments": {},
   "cell_type": "markdown",
   "metadata": {},
   "source": [
    "## Create the App Class"
   ]
  },
  {
   "cell_type": "code",
   "execution_count": null,
   "metadata": {},
   "outputs": [],
   "source": [
    "#| export\n",
    "class StopwatchApp(App):\n",
    "    \"\"\"A Textual app to manage stopwatches.\"\"\"\n",
    "\n",
    "    BINDINGS = [('d', 'toggle_dark', 'Toggle dark mode')]\n",
    "\n",
    "    def compose(self) -> ComposeResult:\n",
    "        \"\"\"Create child widgets for the app.\"\"\"\n",
    "        yield Header()\n",
    "        yield Footer()\n",
    "    \n",
    "    def action_toggle_dark(self) -> None:\n",
    "        \"\"\"An action to toggle dark mode.\"\"\"\n",
    "        self.dark = not self.dark"
   ]
  },
  {
   "attachments": {},
   "cell_type": "markdown",
   "metadata": {},
   "source": [
    "This class contains a `BINDINGS` tuple. The first value is the key, the second is the name of the action, and the third is a short description."
   ]
  },
  {
   "cell_type": "code",
   "execution_count": null,
   "metadata": {},
   "outputs": [
    {
     "data": {
      "text/markdown": [
       "---\n",
       "\n",
       "[source](https://github.com/ForBo7/terminalStopwatch/blob/main/terminalStopwatch/stopwatch1.py#L16){target=\"_blank\" style=\"float:right; font-size:smaller\"}\n",
       "\n",
       "### StopwatchApp.compose\n",
       "\n",
       ">      StopwatchApp.compose ()\n",
       "\n",
       "Create child widgets for the app."
      ],
      "text/plain": [
       "---\n",
       "\n",
       "[source](https://github.com/ForBo7/terminalStopwatch/blob/main/terminalStopwatch/stopwatch1.py#L16){target=\"_blank\" style=\"float:right; font-size:smaller\"}\n",
       "\n",
       "### StopwatchApp.compose\n",
       "\n",
       ">      StopwatchApp.compose ()\n",
       "\n",
       "Create child widgets for the app."
      ]
     },
     "execution_count": null,
     "metadata": {},
     "output_type": "execute_result"
    }
   ],
   "source": [
    "show_doc(StopwatchApp.compose)"
   ]
  },
  {
   "attachments": {},
   "cell_type": "markdown",
   "metadata": {},
   "source": [
    "This method creates the user interface with widgets. It's easier to `yield` them than to `return` them."
   ]
  },
  {
   "cell_type": "code",
   "execution_count": null,
   "metadata": {},
   "outputs": [
    {
     "data": {
      "text/markdown": [
       "---\n",
       "\n",
       "[source](https://github.com/ForBo7/terminalStopwatch/blob/main/terminalStopwatch/stopwatch1.py#L21){target=\"_blank\" style=\"float:right; font-size:smaller\"}\n",
       "\n",
       "### StopwatchApp.action_toggle_dark\n",
       "\n",
       ">      StopwatchApp.action_toggle_dark ()\n",
       "\n",
       "An action to toggle dark mode."
      ],
      "text/plain": [
       "---\n",
       "\n",
       "[source](https://github.com/ForBo7/terminalStopwatch/blob/main/terminalStopwatch/stopwatch1.py#L21){target=\"_blank\" style=\"float:right; font-size:smaller\"}\n",
       "\n",
       "### StopwatchApp.action_toggle_dark\n",
       "\n",
       ">      StopwatchApp.action_toggle_dark ()\n",
       "\n",
       "An action to toggle dark mode."
      ]
     },
     "execution_count": null,
     "metadata": {},
     "output_type": "execute_result"
    }
   ],
   "source": [
    "show_doc(StopwatchApp.action_toggle_dark)"
   ]
  },
  {
   "attachments": {},
   "cell_type": "markdown",
   "metadata": {},
   "source": [
    "This is an _action_ method. Such methods begin with the `action_` prefix. The `BINDINGS` tuple tells Textual to run this action when `D` is pressed."
   ]
  },
  {
   "attachments": {},
   "cell_type": "markdown",
   "metadata": {},
   "source": [
    "## Launch App -"
   ]
  },
  {
   "cell_type": "code",
   "execution_count": null,
   "metadata": {},
   "outputs": [],
   "source": [
    "#|export \n",
    "#| eval: false\n",
    "try: from nbdev.imports import IN_NOTEBOOK\n",
    "except: IN_NOTEBOOK=False\n",
    "\n",
    "if __name__ == '__main__' and not IN_NOTEBOOK:\n",
    "    app = StopwatchApp()\n",
    "    app.run()"
   ]
  },
  {
   "attachments": {},
   "cell_type": "markdown",
   "metadata": {},
   "source": [
    "## Export -"
   ]
  },
  {
   "cell_type": "code",
   "execution_count": null,
   "metadata": {},
   "outputs": [],
   "source": [
    "#| hide\n",
    "import nbdev; nbdev.nbdev_export()"
   ]
  },
  {
   "cell_type": "code",
   "execution_count": null,
   "metadata": {},
   "outputs": [],
   "source": []
  }
 ],
 "metadata": {
  "kernelspec": {
   "display_name": ".venv",
   "language": "python",
   "name": "python3"
  }
 },
 "nbformat": 4,
 "nbformat_minor": 4
}
